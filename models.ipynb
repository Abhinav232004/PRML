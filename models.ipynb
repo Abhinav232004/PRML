{
 "cells": [
  {
   "cell_type": "code",
   "execution_count": 2,
   "metadata": {},
   "outputs": [
    {
     "name": "stdout",
     "output_type": "stream",
     "text": [
      "           Model      RMSE       MAE\n",
      "0         KNN CF  1.042631  0.821140\n",
      "1            SVM  1.065239  0.832667\n",
      "2  Decision Tree  1.282515  0.947813\n",
      "3            PCA  1.283235  0.949871\n"
     ]
    }
   ],
   "source": [
    "import pandas as pd\n",
    "import numpy as np\n",
    "from sklearn.neighbors import KNeighborsRegressor\n",
    "from sklearn.svm import SVR\n",
    "from sklearn.tree import DecisionTreeRegressor\n",
    "from sklearn.decomposition import PCA\n",
    "from sklearn.metrics import mean_squared_error, mean_absolute_error\n",
    "from sklearn.model_selection import train_test_split\n",
    "\n",
    "# Load data\n",
    "ratings = pd.read_csv('ratings.csv')\n",
    "\n",
    "# Train-test split\n",
    "train, test = train_test_split(ratings, test_size=0.2, random_state=42)\n",
    "\n",
    "# Function to calculate RMSE and MAE\n",
    "def evaluate(predictions):\n",
    "    rmse = np.sqrt(mean_squared_error(predictions['rating'], predictions['prediction']))\n",
    "    mae = mean_absolute_error(predictions['rating'], predictions['prediction'])\n",
    "    return rmse, mae\n",
    "\n",
    "# Collaborative Filtering using K-Nearest Neighbors\n",
    "knn_cf = KNeighborsRegressor(n_neighbors=10)\n",
    "knn_cf.fit(train[['userId', 'movieId']], train['rating'])\n",
    "knn_cf_preds = knn_cf.predict(test[['userId', 'movieId']])\n",
    "knn_cf_predictions = pd.DataFrame({'rating': test['rating'], 'prediction': knn_cf_preds})\n",
    "knn_cf_rmse, knn_cf_mae = evaluate(knn_cf_predictions)\n",
    "\n",
    "# Support Vector Machine (SVM)\n",
    "svm_regressor = SVR()\n",
    "svm_regressor.fit(train[['userId', 'movieId']], train['rating'])\n",
    "svm_preds = svm_regressor.predict(test[['userId', 'movieId']])\n",
    "svm_predictions = pd.DataFrame({'rating': test['rating'], 'prediction': svm_preds})\n",
    "svm_rmse, svm_mae = evaluate(svm_predictions)\n",
    "\n",
    "# Decision Tree\n",
    "dt_regressor = DecisionTreeRegressor()\n",
    "dt_regressor.fit(train[['userId', 'movieId']], train['rating'])\n",
    "dt_preds = dt_regressor.predict(test[['userId', 'movieId']])\n",
    "dt_predictions = pd.DataFrame({'rating': test['rating'], 'prediction': dt_preds})\n",
    "dt_rmse, dt_mae = evaluate(dt_predictions)\n",
    "\n",
    "# Principal Component Analysis (PCA)\n",
    "pca = PCA()\n",
    "pca_train = pca.fit_transform(train[['userId', 'movieId']])\n",
    "pca_test = pca.transform(test[['userId', 'movieId']])\n",
    "pca_regressor = DecisionTreeRegressor()\n",
    "pca_regressor.fit(pca_train, train['rating'])\n",
    "pca_preds = pca_regressor.predict(pca_test)\n",
    "pca_predictions = pd.DataFrame({'rating': test['rating'], 'prediction': pca_preds})\n",
    "pca_rmse, pca_mae = evaluate(pca_predictions)\n",
    "\n",
    "# Compare results\n",
    "results = pd.DataFrame({\n",
    "    'Model': ['KNN CF', 'SVM', 'Decision Tree', 'PCA'],\n",
    "    'RMSE': [knn_cf_rmse, svm_rmse, dt_rmse, pca_rmse],\n",
    "    'MAE': [knn_cf_mae, svm_mae, dt_mae, pca_mae]\n",
    "})\n",
    "\n",
    "print(results)\n"
   ]
  }
 ],
 "metadata": {
  "kernelspec": {
   "display_name": "base",
   "language": "python",
   "name": "python3"
  },
  "language_info": {
   "codemirror_mode": {
    "name": "ipython",
    "version": 3
   },
   "file_extension": ".py",
   "mimetype": "text/x-python",
   "name": "python",
   "nbconvert_exporter": "python",
   "pygments_lexer": "ipython3",
   "version": "3.11.5"
  }
 },
 "nbformat": 4,
 "nbformat_minor": 2
}
